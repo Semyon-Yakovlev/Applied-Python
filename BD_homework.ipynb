{
 "cells": [
  {
   "cell_type": "markdown",
   "metadata": {
    "id": "m9QWlN-lq0qw"
   },
   "source": [
    "# Практическая работа"
   ]
  },
  {
   "cell_type": "markdown",
   "metadata": {
    "id": "4Nb7eTxYWWUe"
   },
   "source": [
    "# Задача"
   ]
  },
  {
   "cell_type": "markdown",
   "metadata": {
    "id": "ug5TQChn6KiJ"
   },
   "source": [
    "Один из способов повысить эффективность взаимодействия банка с клиентами — отправлять предложение о новой услуге не всем клиентам, а только некоторым, которые выбираются по принципу наибольшей склонности к отклику на это предложение.\n",
    "\n",
    "Задача заключается в том, чтобы предложить алгоритм, который будет выдавать склонность клиента к положительному или отрицательному отклику на предложение банка. Предполагается, что, получив такие оценки для некоторого множества клиентов, банк обратится с предложением только к тем, от кого ожидается положительный отклик.\n"
   ]
  },
  {
   "cell_type": "markdown",
   "metadata": {
    "id": "5k52FwP156I6"
   },
   "source": [
    "Для решения этой задачи загрузите файлы из базы в Postgres.\n",
    "Эта БД хранит информацию о клиентах банка и их персональные данные, такие как пол, количество детей и другие.\n",
    "\n",
    "Описание таблиц с данными представлено ниже.\n"
   ]
  },
  {
   "cell_type": "markdown",
   "metadata": {
    "id": "3HYLpuwA6dAw"
   },
   "source": [
    "**D_work**\n",
    "\n",
    "Описание статусов относительно работы:\n",
    "- ID — идентификатор социального статуса клиента относительно работы;\n",
    "- COMMENT — расшифровка статуса.\n",
    "\n",
    "\n",
    "**D_pens**\n",
    "\n",
    "Описание статусов относительно пенсии:\n",
    "- ID — идентификатор социального статуса;\n",
    "- COMMENT — расшифровка статуса.\n",
    "\n",
    "\n",
    "**D_clients**\n",
    "\n",
    "Описание данных клиентов:\n",
    "- ID — идентификатор записи;\n",
    "- AGE\t— возраст клиента;\n",
    "- GENDER — пол клиента (1 — мужчина, 0 — женщина);\n",
    "- EDUCATION — образование;\n",
    "- MARITAL_STATUS — семейное положение;\n",
    "- CHILD_TOTAL\t— количество детей клиента;\n",
    "- DEPENDANTS — количество иждивенцев клиента;\n",
    "- SOCSTATUS_WORK_FL\t— социальный статус клиента относительно работы (1 — работает, 0 — не работает);\n",
    "- SOCSTATUS_PENS_FL\t— социальный статус клиента относительно пенсии (1 — пенсионер, 0 — не пенсионер);\n",
    "- REG_ADDRESS_PROVINCE — область регистрации клиента;\n",
    "- FACT_ADDRESS_PROVINCE — область фактического пребывания клиента;\n",
    "- POSTAL_ADDRESS_PROVINCE — почтовый адрес области;\n",
    "- FL_PRESENCE_FL — наличие в собственности квартиры (1 — есть, 0 — нет);\n",
    "- OWN_AUTO — количество автомобилей в собственности.\n",
    "\n",
    "\n",
    "**D_agreement**\n",
    "\n",
    "Таблица с зафиксированными откликами клиентов на предложения банка:\n",
    "- AGREEMENT_RK — уникальный идентификатор объекта в выборке;\n",
    "- ID_CLIENT — идентификатор клиента;\n",
    "- TARGET — целевая переменная: отклик на маркетинговую кампанию (1 — отклик был зарегистрирован, 0 — отклика не было).\n",
    "    \n",
    "    \n",
    "**D_job**\n",
    "\n",
    "Описание информации о работе клиентов:\n",
    "- GEN_INDUSTRY — отрасль работы клиента;\n",
    "- GEN_TITLE — должность;\n",
    "- JOB_DIR — направление деятельности внутри компании;\n",
    "- WORK_TIME — время работы на текущем месте (в месяцах);\n",
    "- ID_CLIENT — идентификатор клиента.\n",
    "\n",
    "\n",
    "**D_salary**\n",
    "\n",
    "Описание информации о заработной плате клиентов:\n",
    "- ID_CLIENT — идентификатор клиента;\n",
    "- FAMILY_INCOME — семейный доход (несколько категорий);\n",
    "- PERSONAL_INCOME — личный доход клиента (в рублях).\n",
    "\n",
    "\n",
    "**D_last_credit**\n",
    "\n",
    "Информация о последнем займе клиента:\n",
    "- ID_CLIENT — идентификатор клиента;\n",
    "- CREDIT — сумма последнего кредита клиента (в рублях);\n",
    "- TERM — срок кредита;\n",
    "- FST_PAYMENT — первоначальный взнос (в рублях).\n",
    "\n",
    "\n",
    "**D_loan**\n",
    "\n",
    "Информация о кредитной истории клиента:\n",
    "- ID_CLIENT — идентификатор клиента;\n",
    "- ID_LOAN — идентификатор кредита.\n",
    "\n",
    "**D_close_loan**\n",
    "\n",
    "Информация о статусах кредита (ссуд):\n",
    "- ID_LOAN — идентификатор кредита;\n",
    "- CLOSED_FL — текущий статус кредита (1 — закрыт, 0 — не закрыт)."
   ]
  },
  {
   "cell_type": "markdown",
   "metadata": {
    "id": "aSCbvJeMKegU"
   },
   "source": [
    "Ниже представлен минимальный список колонок, которые должны находиться в итоговом датасете после склейки и агрегации данных. По своему усмотрению вы можете добавить дополнительные к этим колонки."
   ]
  },
  {
   "cell_type": "markdown",
   "metadata": {
    "id": "xDZKZYCtmbwi"
   },
   "source": [
    "    - AGREEMENT_RK — уникальный идентификатор объекта в выборке;\n",
    "    - TARGET — целевая переменная: отклик на маркетинговую кампанию (1 — отклик был зарегистрирован, 0 — отклика не было);\n",
    "    - AGE — возраст клиента;\n",
    "    - SOCSTATUS_WORK_FL — социальный статус клиента относительно работы (1 — работает, 0 — не работает);\n",
    "    - SOCSTATUS_PENS_FL — социальный статус клиента относительно пенсии (1 — пенсионер, 0 — не пенсионер);\n",
    "    - GENDER — пол клиента (1 — мужчина, 0 — женщина);\n",
    "    - CHILD_TOTAL — количество детей клиента;\n",
    "    - DEPENDANTS — количество иждивенцев клиента;\n",
    "    - PERSONAL_INCOME — личный доход клиента (в рублях);\n",
    "    - LOAN_NUM_TOTAL — количество ссуд клиента;\n",
    "    - LOAN_NUM_CLOSED — количество погашенных ссуд клиента.\n"
   ]
  },
  {
   "cell_type": "markdown",
   "metadata": {
    "id": "EDpojLFeAw2Y"
   },
   "source": [
    "Будьте внимательны при сборке датасета: это реальные банковские данные, в которых могут наблюдаться дубли, некорректно заполненные значения или значения, противоречащие друг другу. Для получения качественной модели необходимо предварительно очистить датасет от такой информации."
   ]
  },
  {
   "cell_type": "code",
   "execution_count": 28,
   "metadata": {},
   "outputs": [],
   "source": [
    "import pandas as pd"
   ]
  },
  {
   "cell_type": "code",
   "execution_count": 29,
   "metadata": {},
   "outputs": [],
   "source": [
    "D_clients = 'https://raw.githubusercontent.com/aiedu-courses/stepik_linear_models/main/datasets/D_clients.csv'\n",
    "D_close_loan = 'https://raw.githubusercontent.com/aiedu-courses/stepik_linear_models/main/datasets/D_close_loan.csv'\n",
    "D_job = 'https://raw.githubusercontent.com/aiedu-courses/stepik_linear_models/main/datasets/D_job.csv'\n",
    "D_last_credit = 'https://raw.githubusercontent.com/aiedu-courses/stepik_linear_models/main/datasets/D_last_credit.csv'\n",
    "D_loan = 'https://raw.githubusercontent.com/aiedu-courses/stepik_linear_models/main/datasets/D_loan.csv'\n",
    "D_pens = 'https://raw.githubusercontent.com/aiedu-courses/stepik_linear_models/main/datasets/D_pens.csv'\n",
    "D_salary = 'https://raw.githubusercontent.com/aiedu-courses/stepik_linear_models/main/datasets/D_salary.csv'\n",
    "D_target = 'https://raw.githubusercontent.com/aiedu-courses/stepik_linear_models/main/datasets/D_target.csv'\n",
    "D_work = 'https://raw.githubusercontent.com/aiedu-courses/stepik_linear_models/main/datasets/D_work.csv' "
   ]
  },
  {
   "cell_type": "code",
   "execution_count": 30,
   "metadata": {},
   "outputs": [],
   "source": [
    "D_clients = pd.read_csv(D_clients, delimiter = ',')\n",
    "D_close_loan = pd.read_csv(D_close_loan, delimiter = ',')\n",
    "D_job = pd.read_csv(D_job, delimiter = ',')\n",
    "D_last_credit = pd.read_csv(D_last_credit, delimiter = ',')\n",
    "D_loan = pd.read_csv(D_loan, delimiter = ',')\n",
    "D_pens = pd.read_csv(D_pens, delimiter = ',')\n",
    "D_salary = pd.read_csv(D_salary, delimiter = ',')\n",
    "D_target = pd.read_csv(D_target, delimiter = ',')\n",
    "D_work = pd.read_csv(D_work, delimiter = ',')"
   ]
  },
  {
   "cell_type": "markdown",
   "metadata": {},
   "source": [
    "- AGREEMENT_RK        D_agreement D_target (ID_CLIENT)\n",
    "- TARGET              D_agreement D_target (ID_CLIENT)\n",
    "- AGE                 D_clients\n",
    "- SOCSTATUS_WORK_FL   D_clients\n",
    "- SOCSTATUS_PENS_FL   D_clients\n",
    "- GENDER              D_clients\n",
    "- CHILD_TOTAL         D_clients\n",
    "- DEPENDANTS          D_clients\n",
    "- PERSONAL_INCOME     D_salary   (ID_CLIENT)\n",
    "- LOAN_NUM_TOTAL      D_loan     (ID_CLIENT)\n",
    "- LOAN_NUM_CLOSED     D_close_loan (ID_LOAN)"
   ]
  },
  {
   "cell_type": "code",
   "execution_count": 31,
   "metadata": {},
   "outputs": [
    {
     "data": {
      "text/html": [
       "<div>\n",
       "<style scoped>\n",
       "    .dataframe tbody tr th:only-of-type {\n",
       "        vertical-align: middle;\n",
       "    }\n",
       "\n",
       "    .dataframe tbody tr th {\n",
       "        vertical-align: top;\n",
       "    }\n",
       "\n",
       "    .dataframe thead th {\n",
       "        text-align: right;\n",
       "    }\n",
       "</style>\n",
       "<table border=\"1\" class=\"dataframe\">\n",
       "  <thead>\n",
       "    <tr style=\"text-align: right;\">\n",
       "      <th></th>\n",
       "      <th>ID</th>\n",
       "      <th>AGE</th>\n",
       "      <th>GENDER</th>\n",
       "      <th>EDUCATION</th>\n",
       "      <th>MARITAL_STATUS</th>\n",
       "      <th>CHILD_TOTAL</th>\n",
       "      <th>DEPENDANTS</th>\n",
       "      <th>SOCSTATUS_WORK_FL</th>\n",
       "      <th>SOCSTATUS_PENS_FL</th>\n",
       "      <th>REG_ADDRESS_PROVINCE</th>\n",
       "      <th>FACT_ADDRESS_PROVINCE</th>\n",
       "      <th>POSTAL_ADDRESS_PROVINCE</th>\n",
       "      <th>FL_PRESENCE_FL</th>\n",
       "      <th>OWN_AUTO</th>\n",
       "    </tr>\n",
       "  </thead>\n",
       "  <tbody>\n",
       "    <tr>\n",
       "      <th>0</th>\n",
       "      <td>106805103</td>\n",
       "      <td>42</td>\n",
       "      <td>1</td>\n",
       "      <td>Среднее</td>\n",
       "      <td>Не состоял в браке</td>\n",
       "      <td>1</td>\n",
       "      <td>0</td>\n",
       "      <td>1</td>\n",
       "      <td>0</td>\n",
       "      <td>Московская область</td>\n",
       "      <td>Московская область</td>\n",
       "      <td>Московская область</td>\n",
       "      <td>1</td>\n",
       "      <td>0</td>\n",
       "    </tr>\n",
       "    <tr>\n",
       "      <th>1</th>\n",
       "      <td>106809308</td>\n",
       "      <td>28</td>\n",
       "      <td>1</td>\n",
       "      <td>Среднее специальное</td>\n",
       "      <td>Состою в браке</td>\n",
       "      <td>1</td>\n",
       "      <td>1</td>\n",
       "      <td>1</td>\n",
       "      <td>0</td>\n",
       "      <td>Читинская область</td>\n",
       "      <td>Читинская область</td>\n",
       "      <td>Читинская область</td>\n",
       "      <td>0</td>\n",
       "      <td>0</td>\n",
       "    </tr>\n",
       "    <tr>\n",
       "      <th>2</th>\n",
       "      <td>106805867</td>\n",
       "      <td>64</td>\n",
       "      <td>0</td>\n",
       "      <td>Среднее специальное</td>\n",
       "      <td>Состою в браке</td>\n",
       "      <td>2</td>\n",
       "      <td>0</td>\n",
       "      <td>1</td>\n",
       "      <td>1</td>\n",
       "      <td>Иркутская область</td>\n",
       "      <td>Иркутская область</td>\n",
       "      <td>Иркутская область</td>\n",
       "      <td>0</td>\n",
       "      <td>1</td>\n",
       "    </tr>\n",
       "    <tr>\n",
       "      <th>3</th>\n",
       "      <td>106808779</td>\n",
       "      <td>54</td>\n",
       "      <td>1</td>\n",
       "      <td>Среднее специальное</td>\n",
       "      <td>Состою в браке</td>\n",
       "      <td>0</td>\n",
       "      <td>0</td>\n",
       "      <td>1</td>\n",
       "      <td>0</td>\n",
       "      <td>Новосибирская область</td>\n",
       "      <td>Новосибирская область</td>\n",
       "      <td>Новосибирская область</td>\n",
       "      <td>1</td>\n",
       "      <td>1</td>\n",
       "    </tr>\n",
       "    <tr>\n",
       "      <th>4</th>\n",
       "      <td>106814289</td>\n",
       "      <td>26</td>\n",
       "      <td>0</td>\n",
       "      <td>Среднее специальное</td>\n",
       "      <td>Состою в браке</td>\n",
       "      <td>1</td>\n",
       "      <td>1</td>\n",
       "      <td>1</td>\n",
       "      <td>0</td>\n",
       "      <td>Красноярский край</td>\n",
       "      <td>Красноярский край</td>\n",
       "      <td>Красноярский край</td>\n",
       "      <td>1</td>\n",
       "      <td>0</td>\n",
       "    </tr>\n",
       "    <tr>\n",
       "      <th>...</th>\n",
       "      <td>...</td>\n",
       "      <td>...</td>\n",
       "      <td>...</td>\n",
       "      <td>...</td>\n",
       "      <td>...</td>\n",
       "      <td>...</td>\n",
       "      <td>...</td>\n",
       "      <td>...</td>\n",
       "      <td>...</td>\n",
       "      <td>...</td>\n",
       "      <td>...</td>\n",
       "      <td>...</td>\n",
       "      <td>...</td>\n",
       "      <td>...</td>\n",
       "    </tr>\n",
       "    <tr>\n",
       "      <th>15995</th>\n",
       "      <td>106814680</td>\n",
       "      <td>26</td>\n",
       "      <td>1</td>\n",
       "      <td>Среднее</td>\n",
       "      <td>Не состоял в браке</td>\n",
       "      <td>1</td>\n",
       "      <td>1</td>\n",
       "      <td>1</td>\n",
       "      <td>0</td>\n",
       "      <td>Чувашия</td>\n",
       "      <td>Чувашия</td>\n",
       "      <td>Чувашия</td>\n",
       "      <td>0</td>\n",
       "      <td>0</td>\n",
       "    </tr>\n",
       "    <tr>\n",
       "      <th>15996</th>\n",
       "      <td>106812464</td>\n",
       "      <td>26</td>\n",
       "      <td>0</td>\n",
       "      <td>Среднее специальное</td>\n",
       "      <td>Состою в браке</td>\n",
       "      <td>0</td>\n",
       "      <td>0</td>\n",
       "      <td>1</td>\n",
       "      <td>0</td>\n",
       "      <td>Карелия</td>\n",
       "      <td>Карелия</td>\n",
       "      <td>Карелия</td>\n",
       "      <td>0</td>\n",
       "      <td>0</td>\n",
       "    </tr>\n",
       "    <tr>\n",
       "      <th>15997</th>\n",
       "      <td>106809255</td>\n",
       "      <td>30</td>\n",
       "      <td>1</td>\n",
       "      <td>Среднее специальное</td>\n",
       "      <td>Не состоял в браке</td>\n",
       "      <td>0</td>\n",
       "      <td>0</td>\n",
       "      <td>1</td>\n",
       "      <td>0</td>\n",
       "      <td>Белгородская область</td>\n",
       "      <td>Белгородская область</td>\n",
       "      <td>Белгородская область</td>\n",
       "      <td>0</td>\n",
       "      <td>0</td>\n",
       "    </tr>\n",
       "    <tr>\n",
       "      <th>15998</th>\n",
       "      <td>106814593</td>\n",
       "      <td>25</td>\n",
       "      <td>0</td>\n",
       "      <td>Среднее специальное</td>\n",
       "      <td>Состою в браке</td>\n",
       "      <td>0</td>\n",
       "      <td>0</td>\n",
       "      <td>1</td>\n",
       "      <td>0</td>\n",
       "      <td>Кабардино-Балкария</td>\n",
       "      <td>Кабардино-Балкария</td>\n",
       "      <td>Кабардино-Балкария</td>\n",
       "      <td>0</td>\n",
       "      <td>0</td>\n",
       "    </tr>\n",
       "    <tr>\n",
       "      <th>15999</th>\n",
       "      <td>106813640</td>\n",
       "      <td>26</td>\n",
       "      <td>1</td>\n",
       "      <td>Высшее</td>\n",
       "      <td>Не состоял в браке</td>\n",
       "      <td>0</td>\n",
       "      <td>0</td>\n",
       "      <td>1</td>\n",
       "      <td>0</td>\n",
       "      <td>Татарстан</td>\n",
       "      <td>Татарстан</td>\n",
       "      <td>Татарстан</td>\n",
       "      <td>1</td>\n",
       "      <td>0</td>\n",
       "    </tr>\n",
       "  </tbody>\n",
       "</table>\n",
       "<p>16000 rows × 14 columns</p>\n",
       "</div>"
      ],
      "text/plain": [
       "              ID  AGE  GENDER            EDUCATION      MARITAL_STATUS  \\\n",
       "0      106805103   42       1              Среднее  Не состоял в браке   \n",
       "1      106809308   28       1  Среднее специальное      Состою в браке   \n",
       "2      106805867   64       0  Среднее специальное      Состою в браке   \n",
       "3      106808779   54       1  Среднее специальное      Состою в браке   \n",
       "4      106814289   26       0  Среднее специальное      Состою в браке   \n",
       "...          ...  ...     ...                  ...                 ...   \n",
       "15995  106814680   26       1              Среднее  Не состоял в браке   \n",
       "15996  106812464   26       0  Среднее специальное      Состою в браке   \n",
       "15997  106809255   30       1  Среднее специальное  Не состоял в браке   \n",
       "15998  106814593   25       0  Среднее специальное      Состою в браке   \n",
       "15999  106813640   26       1               Высшее  Не состоял в браке   \n",
       "\n",
       "       CHILD_TOTAL  DEPENDANTS  SOCSTATUS_WORK_FL  SOCSTATUS_PENS_FL  \\\n",
       "0                1           0                  1                  0   \n",
       "1                1           1                  1                  0   \n",
       "2                2           0                  1                  1   \n",
       "3                0           0                  1                  0   \n",
       "4                1           1                  1                  0   \n",
       "...            ...         ...                ...                ...   \n",
       "15995            1           1                  1                  0   \n",
       "15996            0           0                  1                  0   \n",
       "15997            0           0                  1                  0   \n",
       "15998            0           0                  1                  0   \n",
       "15999            0           0                  1                  0   \n",
       "\n",
       "        REG_ADDRESS_PROVINCE  FACT_ADDRESS_PROVINCE POSTAL_ADDRESS_PROVINCE  \\\n",
       "0         Московская область     Московская область      Московская область   \n",
       "1          Читинская область      Читинская область       Читинская область   \n",
       "2          Иркутская область      Иркутская область       Иркутская область   \n",
       "3      Новосибирская область  Новосибирская область   Новосибирская область   \n",
       "4          Красноярский край      Красноярский край       Красноярский край   \n",
       "...                      ...                    ...                     ...   \n",
       "15995                Чувашия                Чувашия                 Чувашия   \n",
       "15996                Карелия                Карелия                 Карелия   \n",
       "15997   Белгородская область   Белгородская область    Белгородская область   \n",
       "15998     Кабардино-Балкария     Кабардино-Балкария      Кабардино-Балкария   \n",
       "15999              Татарстан              Татарстан               Татарстан   \n",
       "\n",
       "       FL_PRESENCE_FL  OWN_AUTO  \n",
       "0                   1         0  \n",
       "1                   0         0  \n",
       "2                   0         1  \n",
       "3                   1         1  \n",
       "4                   1         0  \n",
       "...               ...       ...  \n",
       "15995               0         0  \n",
       "15996               0         0  \n",
       "15997               0         0  \n",
       "15998               0         0  \n",
       "15999               1         0  \n",
       "\n",
       "[16000 rows x 14 columns]"
      ]
     },
     "execution_count": 31,
     "metadata": {},
     "output_type": "execute_result"
    }
   ],
   "source": [
    "D_clients"
   ]
  },
  {
   "cell_type": "code",
   "execution_count": 32,
   "metadata": {},
   "outputs": [],
   "source": [
    "D_clients['ID_CLIENT'] = D_clients['ID']\n",
    "D_clients = D_clients[['ID_CLIENT', 'AGE', 'SOCSTATUS_WORK_FL', 'SOCSTATUS_PENS_FL', 'GENDER', 'CHILD_TOTAL', 'DEPENDANTS']]"
   ]
  },
  {
   "cell_type": "code",
   "execution_count": 33,
   "metadata": {},
   "outputs": [
    {
     "data": {
      "text/plain": [
       "0"
      ]
     },
     "execution_count": 33,
     "metadata": {},
     "output_type": "execute_result"
    }
   ],
   "source": [
    "(D_clients['ID_CLIENT'].value_counts() > 1).sum()"
   ]
  },
  {
   "cell_type": "markdown",
   "metadata": {},
   "source": [
    "Нет дублей"
   ]
  },
  {
   "cell_type": "code",
   "execution_count": 34,
   "metadata": {},
   "outputs": [],
   "source": [
    "df = D_clients.merge(D_target, on='ID_CLIENT', how='left')"
   ]
  },
  {
   "cell_type": "code",
   "execution_count": 35,
   "metadata": {},
   "outputs": [
    {
     "data": {
      "text/html": [
       "<div>\n",
       "<style scoped>\n",
       "    .dataframe tbody tr th:only-of-type {\n",
       "        vertical-align: middle;\n",
       "    }\n",
       "\n",
       "    .dataframe tbody tr th {\n",
       "        vertical-align: top;\n",
       "    }\n",
       "\n",
       "    .dataframe thead th {\n",
       "        text-align: right;\n",
       "    }\n",
       "</style>\n",
       "<table border=\"1\" class=\"dataframe\">\n",
       "  <thead>\n",
       "    <tr style=\"text-align: right;\">\n",
       "      <th></th>\n",
       "      <th>ID_CLIENT</th>\n",
       "      <th>AGE</th>\n",
       "      <th>SOCSTATUS_WORK_FL</th>\n",
       "      <th>SOCSTATUS_PENS_FL</th>\n",
       "      <th>GENDER</th>\n",
       "      <th>CHILD_TOTAL</th>\n",
       "      <th>DEPENDANTS</th>\n",
       "      <th>AGREEMENT_RK</th>\n",
       "      <th>TARGET</th>\n",
       "    </tr>\n",
       "  </thead>\n",
       "  <tbody>\n",
       "    <tr>\n",
       "      <th>0</th>\n",
       "      <td>106805103</td>\n",
       "      <td>42</td>\n",
       "      <td>1</td>\n",
       "      <td>0</td>\n",
       "      <td>1</td>\n",
       "      <td>1</td>\n",
       "      <td>0</td>\n",
       "      <td>60099204.0</td>\n",
       "      <td>1.0</td>\n",
       "    </tr>\n",
       "    <tr>\n",
       "      <th>1</th>\n",
       "      <td>106809308</td>\n",
       "      <td>28</td>\n",
       "      <td>1</td>\n",
       "      <td>0</td>\n",
       "      <td>1</td>\n",
       "      <td>1</td>\n",
       "      <td>1</td>\n",
       "      <td>62244665.0</td>\n",
       "      <td>0.0</td>\n",
       "    </tr>\n",
       "    <tr>\n",
       "      <th>2</th>\n",
       "      <td>106805867</td>\n",
       "      <td>64</td>\n",
       "      <td>1</td>\n",
       "      <td>1</td>\n",
       "      <td>0</td>\n",
       "      <td>2</td>\n",
       "      <td>0</td>\n",
       "      <td>61050759.0</td>\n",
       "      <td>0.0</td>\n",
       "    </tr>\n",
       "    <tr>\n",
       "      <th>3</th>\n",
       "      <td>106808779</td>\n",
       "      <td>54</td>\n",
       "      <td>1</td>\n",
       "      <td>0</td>\n",
       "      <td>1</td>\n",
       "      <td>0</td>\n",
       "      <td>0</td>\n",
       "      <td>62079659.0</td>\n",
       "      <td>0.0</td>\n",
       "    </tr>\n",
       "    <tr>\n",
       "      <th>4</th>\n",
       "      <td>106814289</td>\n",
       "      <td>26</td>\n",
       "      <td>1</td>\n",
       "      <td>0</td>\n",
       "      <td>0</td>\n",
       "      <td>1</td>\n",
       "      <td>1</td>\n",
       "      <td>66583553.0</td>\n",
       "      <td>0.0</td>\n",
       "    </tr>\n",
       "  </tbody>\n",
       "</table>\n",
       "</div>"
      ],
      "text/plain": [
       "   ID_CLIENT  AGE  SOCSTATUS_WORK_FL  SOCSTATUS_PENS_FL  GENDER  CHILD_TOTAL  \\\n",
       "0  106805103   42                  1                  0       1            1   \n",
       "1  106809308   28                  1                  0       1            1   \n",
       "2  106805867   64                  1                  1       0            2   \n",
       "3  106808779   54                  1                  0       1            0   \n",
       "4  106814289   26                  1                  0       0            1   \n",
       "\n",
       "   DEPENDANTS  AGREEMENT_RK  TARGET  \n",
       "0           0    60099204.0     1.0  \n",
       "1           1    62244665.0     0.0  \n",
       "2           0    61050759.0     0.0  \n",
       "3           0    62079659.0     0.0  \n",
       "4           1    66583553.0     0.0  "
      ]
     },
     "execution_count": 35,
     "metadata": {},
     "output_type": "execute_result"
    }
   ],
   "source": [
    "df.head()"
   ]
  },
  {
   "cell_type": "code",
   "execution_count": 36,
   "metadata": {},
   "outputs": [
    {
     "data": {
      "text/plain": [
       "300"
      ]
     },
     "execution_count": 36,
     "metadata": {},
     "output_type": "execute_result"
    }
   ],
   "source": [
    "(D_salary['ID_CLIENT'].value_counts() > 1).sum()"
   ]
  },
  {
   "cell_type": "markdown",
   "metadata": {},
   "source": [
    "Есть 300 дубликатов. Очистим их"
   ]
  },
  {
   "cell_type": "code",
   "execution_count": 37,
   "metadata": {},
   "outputs": [],
   "source": [
    "D_salary = D_salary.drop_duplicates(subset='ID_CLIENT', keep=\"first\")"
   ]
  },
  {
   "cell_type": "code",
   "execution_count": 38,
   "metadata": {},
   "outputs": [
    {
     "data": {
      "text/plain": [
       "0"
      ]
     },
     "execution_count": 38,
     "metadata": {},
     "output_type": "execute_result"
    }
   ],
   "source": [
    "(D_salary['ID_CLIENT'].value_counts() > 1).sum()"
   ]
  },
  {
   "cell_type": "markdown",
   "metadata": {},
   "source": [
    "Очистили. Теперь нет дублей."
   ]
  },
  {
   "cell_type": "code",
   "execution_count": 39,
   "metadata": {},
   "outputs": [],
   "source": [
    "df = df.merge(D_salary, on='ID_CLIENT', how='left')"
   ]
  },
  {
   "cell_type": "code",
   "execution_count": 40,
   "metadata": {},
   "outputs": [
    {
     "data": {
      "text/plain": [
       "0"
      ]
     },
     "execution_count": 40,
     "metadata": {},
     "output_type": "execute_result"
    }
   ],
   "source": [
    "(D_loan.groupby('ID_CLIENT').count().reset_index().value_counts() > 1).sum()"
   ]
  },
  {
   "cell_type": "code",
   "execution_count": 41,
   "metadata": {},
   "outputs": [],
   "source": [
    "D_loan_count = D_loan.groupby('ID_CLIENT').count().reset_index()\n",
    "D_loan_count = D_loan_count.rename({'ID_LOAN':'LOAN_NUM_TOTAL'}, axis = 1)\n",
    "D_loan_count = D_loan_count[['ID_CLIENT','LOAN_NUM_TOTAL']]"
   ]
  },
  {
   "cell_type": "code",
   "execution_count": 42,
   "metadata": {},
   "outputs": [],
   "source": [
    "df = df.merge(D_loan_count, on='ID_CLIENT', how='left')"
   ]
  },
  {
   "cell_type": "code",
   "execution_count": 43,
   "metadata": {},
   "outputs": [],
   "source": [
    "D_loan_closed = D_loan.merge(D_close_loan, on='ID_LOAN', how='left')"
   ]
  },
  {
   "cell_type": "code",
   "execution_count": 44,
   "metadata": {},
   "outputs": [],
   "source": [
    "D_loan_closed = D_loan_closed[D_loan_closed['CLOSED_FL'] == 1].groupby('ID_CLIENT').count()\\\n",
    ".reset_index().drop_duplicates(subset='ID_CLIENT', keep=\"first\")"
   ]
  },
  {
   "cell_type": "code",
   "execution_count": 45,
   "metadata": {},
   "outputs": [],
   "source": [
    "D_loan_closed = D_loan_closed.rename({'CLOSED_FL':'LOAN_NUM_CLOSED'}, axis = 1)\n",
    "D_loan_closed = D_loan_closed[['ID_CLIENT','LOAN_NUM_CLOSED']]"
   ]
  },
  {
   "cell_type": "code",
   "execution_count": 46,
   "metadata": {},
   "outputs": [],
   "source": [
    "df = df.merge(D_loan_closed, on='ID_CLIENT', how='left')"
   ]
  },
  {
   "cell_type": "code",
   "execution_count": 47,
   "metadata": {},
   "outputs": [],
   "source": [
    "df['LOAN_NUM_CLOSED'] = df['LOAN_NUM_CLOSED'].fillna(0)\n",
    "df['LOAN_NUM_TOTAL'] = df['LOAN_NUM_TOTAL'].fillna(0)"
   ]
  },
  {
   "cell_type": "code",
   "execution_count": 48,
   "metadata": {},
   "outputs": [
    {
     "data": {
      "text/plain": [
       "ID_CLIENT              0\n",
       "AGE                    0\n",
       "SOCSTATUS_WORK_FL      0\n",
       "SOCSTATUS_PENS_FL      0\n",
       "GENDER                 0\n",
       "CHILD_TOTAL            0\n",
       "DEPENDANTS             0\n",
       "AGREEMENT_RK         777\n",
       "TARGET               777\n",
       "FAMILY_INCOME        777\n",
       "PERSONAL_INCOME      777\n",
       "LOAN_NUM_TOTAL         0\n",
       "LOAN_NUM_CLOSED        0\n",
       "dtype: int64"
      ]
     },
     "execution_count": 48,
     "metadata": {},
     "output_type": "execute_result"
    }
   ],
   "source": [
    "df.isna().sum()"
   ]
  },
  {
   "cell_type": "code",
   "execution_count": 49,
   "metadata": {},
   "outputs": [],
   "source": [
    "df = df.dropna()"
   ]
  },
  {
   "cell_type": "code",
   "execution_count": 52,
   "metadata": {},
   "outputs": [],
   "source": [
    "df.to_csv('prepared_data.csv')"
   ]
  },
  {
   "cell_type": "markdown",
   "metadata": {
    "id": "I7jn6IYXx6M9"
   },
   "source": [
    "## Задание 2\n",
    "\n",
    "При помощи инструмента Streamlit проведите разведочный анализ данных. В него может входить:\n",
    "\n",
    "* построение графиков распределений признаков\n",
    "* построение матрицы корреляций\n",
    "* построение графиков зависимостей целевой переменной и признаков\n",
    "* вычисление числовых характеристик распределения числовых столбцов (среднее, min, max, медиана и так далее)\n",
    "* любые другие ваши идеи приветствуются!\n",
    "\n",
    "[Пример Streamlit-приложения](https://rateyourflight.streamlit.app) с разведочным анализом, прогнозом модели и оценкой ее результатов."
   ]
  },
  {
   "cell_type": "markdown",
   "metadata": {},
   "source": [
    "Задание реализовано в main.py"
   ]
  }
 ],
 "metadata": {
  "colab": {
   "provenance": []
  },
  "kernelspec": {
   "display_name": "Python 3 (ipykernel)",
   "language": "python",
   "name": "python3"
  },
  "language_info": {
   "codemirror_mode": {
    "name": "ipython",
    "version": 3
   },
   "file_extension": ".py",
   "mimetype": "text/x-python",
   "name": "python",
   "nbconvert_exporter": "python",
   "pygments_lexer": "ipython3",
   "version": "3.8.0"
  }
 },
 "nbformat": 4,
 "nbformat_minor": 1
}
